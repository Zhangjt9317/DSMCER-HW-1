{
 "cells": [
  {
   "cell_type": "markdown",
   "metadata": {},
   "source": [
    "### HW Assignment 1 for DSM-CER\n",
    "\n",
    "* Due date, submitted to your GitHub account by Tue Jan 16, 2018 at 5 pm PST \n",
    "* Overview: This HW assignment is primarily designed to introduce you to some aspects of Data Science.  A secondary goal of the HW assignment is to get practice with git, GitHub classroom and related tools you will be using in both classes. \n",
    "* Instructions: \n",
    "    * Check out this jupyter notebook from GitHub classroom (if you are reading this, you probably did it). If you had a friend give you the python notebook, stop now and figure out how to get the correct starter code from GitHub classroom.\n",
    "    * Do the assigned reading for DSM-CER (The Data Science review article by Beck et al.).  If you have any lingering questions, enter them in the appropriate cell below, in markdown format and colored in <font color='red'>_red text_</font>\n",
    "    * Find a research paper related to your own research area, or a research area of interest that is at the intersection of materials/chemicals science/engineering and Data Science. In the appropriate cell below, add the correct <a href=\"http://google.com\" target=\"_blank\">link to the paper</a> so that we can find it. \n",
    "        * If you cannot find a paper you want to read you can look for papers related to Materials Genome Initative, The Materials Project, Harvard Clean Energy Project, The Open Quantum Materials Database, or references from Part 1.  \n",
    "            * _If you still can't find a paper, talk to us on Slack or come to office hours_\n",
    "                * **_If you still can't find a paper, I am out of suggestions_**\n",
    "    * Write a brief (200 words or fewer) summary of the paper, making sure to note the methods that were used as well as how the authors addressed one or more data-related challenges \n",
    "    * Turn in the completed python notebook using GitHub classroom"
   ]
  },
  {
   "cell_type": "markdown",
   "metadata": {},
   "source": [
    "## Part 1\n",
    "Any questions from reading Beck et. al?"
   ]
  },
  {
   "cell_type": "markdown",
   "metadata": {},
   "source": [
    "* no question yet"
   ]
  },
  {
   "cell_type": "markdown",
   "metadata": {},
   "source": [
    "## Part 2 \n",
    "Provide the full details of the paper you found here. Use markdown to format it smartly and provide the link as requested"
   ]
  },
  {
   "cell_type": "markdown",
   "metadata": {},
   "source": [
    "[Lead candidates for high-performance organic\n",
    "photovoltaics from high-throughput quantum\n",
    "chemistry – the Harvard Clean Energy Project] (http://static.molecularspace.org/uploads/2013/11/c3ee42756k.pdf)\n",
    "* This paper talks about how Harvard Clean Energy Project (CEP) change the way of OPV study in term of combining data science and material science togther."
   ]
  },
  {
   "cell_type": "markdown",
   "metadata": {},
   "source": [
    "## Part 3 \n",
    "Provide your brief summary here in markdown format. Please make every effort that it is free from typos and grammatical mistakes. Excessive typos or basic grammatical mistakes (i.e., that interfere with readability) will be marked down (no pun) 15%. There are Jupyter plug-ins that can do spell-check, but if you are concerned it might be faster to just copy-paste your summary and then format it correctly."
   ]
  },
  {
   "cell_type": "markdown",
   "metadata": {},
   "source": [
    "## Answer: \n",
    "\n",
    "* ### Challenges\n",
    "Organic photovoltaic devices, or organic solar cells, are a promising technology for the inexpensive use of renewable energy source. Yet massive amount of synthesizing accompanied by many repeated experiments make scientists tired and development progress limited. The emergence of ** virtual high-throughput prescreening ** greatly reduce the limitations costs and high possibility of failure. It is designed to facilitate an accelerated development process so most of efforts will focus on applying useful, promising materials instead of worthless ones. \n",
    "\n",
    "* ### Solutions\n",
    "Hard Clean Energy Project (CEP) is an automated, high-throughput screening framework for the large-scale *in silico* study of molecular materials. High-throughput computational materials design is an emerging area of material science, which, by combining advanced thermodynamic and electronic-structure methods with intelligent data mining and database construction, and exploiting the potential power of super computers, can help scientists to build enormous data repositories in order to seek possibility of novel materials. In this case, CEP harnesses the so-called *first-principles* electronic structure theory to characterize and attribute molecular motifs and assess their potentials.\n",
    "\n",
    "* ### Results\n",
    "After promising materials are selected, statistical and empirical analysis are done to ensure their functions are worthy to be applied on OPVs. So far more than 2 millions of molecular motifs were created, and more than 400 terabytes of data were generated. Scharber model is employed as one analysis method for OPVs, and ranking is determined following the modeling results. After candidates of promising materials are chosen, it is critical to determine how decisive these individual building blocks are for the overall device performance. The mean and median PCE of all compounds are computed in order to address the question above since each compound is constructed from several fragments with different z-scores, and these z scores are associated with PCE. Thus a relational database can be built in order to rank and choose among candidates based on their performances as an individual part of a device. "
   ]
  },
  {
   "cell_type": "code",
   "execution_count": null,
   "metadata": {
    "collapsed": true
   },
   "outputs": [],
   "source": []
  }
 ],
 "metadata": {
  "kernelspec": {
   "display_name": "Python 3",
   "language": "python",
   "name": "python3"
  },
  "language_info": {
   "codemirror_mode": {
    "name": "ipython",
    "version": 3
   },
   "file_extension": ".py",
   "mimetype": "text/x-python",
   "name": "python",
   "nbconvert_exporter": "python",
   "pygments_lexer": "ipython3",
   "version": "3.6.3"
  }
 },
 "nbformat": 4,
 "nbformat_minor": 1
}
